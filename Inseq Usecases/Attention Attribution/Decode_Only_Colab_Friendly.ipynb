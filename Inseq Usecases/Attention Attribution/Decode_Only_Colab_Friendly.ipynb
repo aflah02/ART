{
 "cells": [
  {
   "cell_type": "code",
   "execution_count": 1,
   "metadata": {},
   "outputs": [],
   "source": [
    "%%capture\n",
    "# Run in Colab to install local packages\n",
    "%pip install bitsandbytes accelerate\n",
    "%pip install git+https://github.com/huggingface/transformers.git\n",
    "%pip install git+https://github.com/inseq-team/inseq.git"
   ]
  },
  {
   "cell_type": "code",
   "execution_count": null,
   "metadata": {},
   "outputs": [],
   "source": [
    "import inseq"
   ]
  },
  {
   "cell_type": "code",
   "execution_count": null,
   "metadata": {},
   "outputs": [],
   "source": [
    "# Load the model EleutherAI/pythia-70m-deduped (6-layer decoder only transformer) from the\n",
    "# Huggingface Hub and hook it with the Input X Gradient feature attribution method\n",
    "model = inseq.load_model(\"EleutherAI/pythia-70m-deduped\", \"input_x_gradient\")\n",
    "\n",
    "out = model.attribute(\n",
    "    input_texts=\"Hello everyone, hope you're enjoying the tutorial!\",\n",
    "    attribute_target=True,\n",
    "    method=\"attention\"\n",
    ")\n",
    "\n",
    "# out[0] is a shortcut for out.target_attributions[0]\n",
    "out.sequence_attributions[0].target_attributions.shape"
   ]
  },
  {
   "cell_type": "code",
   "execution_count": null,
   "metadata": {},
   "outputs": [],
   "source": [
    "out.sequence_attributions[0]._aggregator\n",
    "out.show()"
   ]
  },
  {
   "cell_type": "code",
   "execution_count": null,
   "metadata": {},
   "outputs": [],
   "source": []
  }
 ],
 "metadata": {
  "kernelspec": {
   "display_name": "Python 3",
   "language": "python",
   "name": "python3"
  },
  "language_info": {
   "codemirror_mode": {
    "name": "ipython",
    "version": 3
   },
   "file_extension": ".py",
   "mimetype": "text/x-python",
   "name": "python",
   "nbconvert_exporter": "python",
   "pygments_lexer": "ipython3",
   "version": "3.9.13"
  },
  "orig_nbformat": 4
 },
 "nbformat": 4,
 "nbformat_minor": 2
}
