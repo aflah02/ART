{
 "cells": [
  {
   "cell_type": "code",
   "execution_count": 1,
   "metadata": {},
   "outputs": [
    {
     "name": "stdout",
     "output_type": "stream",
     "text": [
      "Collecting git+https://github.com/inseq-team/inseq.git\n",
      "  Cloning https://github.com/inseq-team/inseq.git to c:\\users\\asus\\appdata\\local\\temp\\pip-req-build-dcrk0c1h\n",
      "  Resolved https://github.com/inseq-team/inseq.git to commit 5a217b0410ba73d0e6b2df712d04569497a3be97\n",
      "  Installing build dependencies: started\n",
      "  Installing build dependencies: finished with status 'done'\n",
      "  Getting requirements to build wheel: started\n",
      "  Getting requirements to build wheel: finished with status 'done'\n",
      "  Preparing metadata (pyproject.toml): started\n",
      "  Preparing metadata (pyproject.toml): finished with status 'done'\n",
      "Collecting poethepoet<0.14.0,>=0.13.1\n",
      "  Downloading poethepoet-0.13.1-py3-none-any.whl (56 kB)\n",
      "     ---------------------------------------- 56.3/56.3 kB 1.5 MB/s eta 0:00:00\n",
      "Requirement already satisfied: tqdm<5.0.0,>=4.64.0 in c:\\users\\asus\\appdata\\local\\packages\\pythonsoftwarefoundation.python.3.9_qbz5n2kfra8p0\\localcache\\local-packages\\python39\\site-packages (from inseq==0.5.0.dev0) (4.64.0)\n",
      "Collecting protobuf<4.0.0,>=3.20.1\n",
      "  Using cached protobuf-3.20.3-cp39-cp39-win_amd64.whl (904 kB)\n",
      "Collecting rich<11.0.0,>=10.13.0\n",
      "  Downloading rich-10.16.2-py3-none-any.whl (214 kB)\n",
      "     -------------------------------------- 214.4/214.4 kB 6.4 MB/s eta 0:00:00\n",
      "Collecting matplotlib<3.6.0,>=3.5.3\n",
      "  Downloading matplotlib-3.5.3-cp39-cp39-win_amd64.whl (7.2 MB)\n",
      "     ---------------------------------------- 7.2/7.2 MB 7.2 MB/s eta 0:00:00\n",
      "Collecting captum<0.7.0,>=0.6.0\n",
      "  Downloading captum-0.6.0-py3-none-any.whl (1.3 MB)\n",
      "     ---------------------------------------- 1.3/1.3 MB 6.9 MB/s eta 0:00:00\n",
      "Collecting torch>=1.13.1\n",
      "  Downloading torch-2.0.1-cp39-cp39-win_amd64.whl (172.4 MB)\n",
      "     -------------------------------------- 172.4/172.4 MB 4.2 MB/s eta 0:00:00\n",
      "Collecting torchtyping<0.2.0,>=0.1.4\n",
      "  Downloading torchtyping-0.1.4-py3-none-any.whl (17 kB)\n",
      "Collecting numpy<2.0.0,>=1.21.6\n",
      "  Downloading numpy-1.25.1-cp39-cp39-win_amd64.whl (15.1 MB)\n",
      "     ---------------------------------------- 15.1/15.1 MB 3.1 MB/s eta 0:00:00\n",
      "Requirement already satisfied: transformers[sentencepiece,tokenizers,torch]>=4.22.0 in c:\\users\\asus\\appdata\\local\\packages\\pythonsoftwarefoundation.python.3.9_qbz5n2kfra8p0\\localcache\\local-packages\\python39\\site-packages (from inseq==0.5.0.dev0) (4.27.0)\n",
      "Collecting typeguard<=2.13.3\n",
      "  Downloading typeguard-2.13.3-py3-none-any.whl (17 kB)\n",
      "Requirement already satisfied: scipy<2.0.0,>=1.8.1 in c:\\users\\asus\\appdata\\local\\packages\\pythonsoftwarefoundation.python.3.9_qbz5n2kfra8p0\\localcache\\local-packages\\python39\\site-packages (from inseq==0.5.0.dev0) (1.8.1)\n",
      "Requirement already satisfied: cycler>=0.10 in c:\\users\\asus\\appdata\\local\\packages\\pythonsoftwarefoundation.python.3.9_qbz5n2kfra8p0\\localcache\\local-packages\\python39\\site-packages (from matplotlib<3.6.0,>=3.5.3->inseq==0.5.0.dev0) (0.11.0)\n",
      "Requirement already satisfied: fonttools>=4.22.0 in c:\\users\\asus\\appdata\\local\\packages\\pythonsoftwarefoundation.python.3.9_qbz5n2kfra8p0\\localcache\\local-packages\\python39\\site-packages (from matplotlib<3.6.0,>=3.5.3->inseq==0.5.0.dev0) (4.28.5)\n",
      "Requirement already satisfied: kiwisolver>=1.0.1 in c:\\users\\asus\\appdata\\local\\packages\\pythonsoftwarefoundation.python.3.9_qbz5n2kfra8p0\\localcache\\local-packages\\python39\\site-packages (from matplotlib<3.6.0,>=3.5.3->inseq==0.5.0.dev0) (1.3.2)\n",
      "Requirement already satisfied: pillow>=6.2.0 in c:\\users\\asus\\appdata\\local\\packages\\pythonsoftwarefoundation.python.3.9_qbz5n2kfra8p0\\localcache\\local-packages\\python39\\site-packages (from matplotlib<3.6.0,>=3.5.3->inseq==0.5.0.dev0) (8.4.0)\n",
      "Requirement already satisfied: pyparsing>=2.2.1 in c:\\users\\asus\\appdata\\local\\packages\\pythonsoftwarefoundation.python.3.9_qbz5n2kfra8p0\\localcache\\local-packages\\python39\\site-packages (from matplotlib<3.6.0,>=3.5.3->inseq==0.5.0.dev0) (3.0.6)\n",
      "Requirement already satisfied: packaging>=20.0 in c:\\users\\asus\\appdata\\local\\packages\\pythonsoftwarefoundation.python.3.9_qbz5n2kfra8p0\\localcache\\local-packages\\python39\\site-packages (from matplotlib<3.6.0,>=3.5.3->inseq==0.5.0.dev0) (21.3)\n",
      "Requirement already satisfied: python-dateutil>=2.7 in c:\\users\\asus\\appdata\\local\\packages\\pythonsoftwarefoundation.python.3.9_qbz5n2kfra8p0\\localcache\\local-packages\\python39\\site-packages (from matplotlib<3.6.0,>=3.5.3->inseq==0.5.0.dev0) (2.8.2)\n",
      "Collecting pastel<0.3.0,>=0.2.1\n",
      "  Downloading pastel-0.2.1-py2.py3-none-any.whl (6.0 kB)\n",
      "Requirement already satisfied: tomli>=1.2.2 in c:\\users\\asus\\appdata\\local\\packages\\pythonsoftwarefoundation.python.3.9_qbz5n2kfra8p0\\localcache\\local-packages\\python39\\site-packages (from poethepoet<0.14.0,>=0.13.1->inseq==0.5.0.dev0) (2.0.1)\n",
      "Requirement already satisfied: pygments<3.0.0,>=2.6.0 in c:\\users\\asus\\appdata\\local\\packages\\pythonsoftwarefoundation.python.3.9_qbz5n2kfra8p0\\localcache\\local-packages\\python39\\site-packages (from rich<11.0.0,>=10.13.0->inseq==0.5.0.dev0) (2.13.0)\n",
      "Requirement already satisfied: commonmark<0.10.0,>=0.9.0 in c:\\users\\asus\\appdata\\local\\packages\\pythonsoftwarefoundation.python.3.9_qbz5n2kfra8p0\\localcache\\local-packages\\python39\\site-packages (from rich<11.0.0,>=10.13.0->inseq==0.5.0.dev0) (0.9.1)\n",
      "Requirement already satisfied: colorama<0.5.0,>=0.4.0 in c:\\users\\asus\\appdata\\local\\packages\\pythonsoftwarefoundation.python.3.9_qbz5n2kfra8p0\\localcache\\local-packages\\python39\\site-packages (from rich<11.0.0,>=10.13.0->inseq==0.5.0.dev0) (0.4.5)\n",
      "Collecting numpy<2.0.0,>=1.21.6\n",
      "  Downloading numpy-1.24.4-cp39-cp39-win_amd64.whl (14.9 MB)\n",
      "     ---------------------------------------- 14.9/14.9 MB 3.7 MB/s eta 0:00:00\n",
      "Requirement already satisfied: networkx in c:\\users\\asus\\appdata\\local\\packages\\pythonsoftwarefoundation.python.3.9_qbz5n2kfra8p0\\localcache\\local-packages\\python39\\site-packages (from torch>=1.13.1->inseq==0.5.0.dev0) (2.6.3)\n",
      "Requirement already satisfied: typing-extensions in c:\\users\\asus\\appdata\\local\\packages\\pythonsoftwarefoundation.python.3.9_qbz5n2kfra8p0\\localcache\\local-packages\\python39\\site-packages (from torch>=1.13.1->inseq==0.5.0.dev0) (4.0.1)\n",
      "Requirement already satisfied: filelock in c:\\users\\asus\\appdata\\local\\packages\\pythonsoftwarefoundation.python.3.9_qbz5n2kfra8p0\\localcache\\local-packages\\python39\\site-packages (from torch>=1.13.1->inseq==0.5.0.dev0) (3.7.1)\n",
      "Requirement already satisfied: jinja2 in c:\\users\\asus\\appdata\\local\\packages\\pythonsoftwarefoundation.python.3.9_qbz5n2kfra8p0\\localcache\\local-packages\\python39\\site-packages (from torch>=1.13.1->inseq==0.5.0.dev0) (3.1.0)\n",
      "Collecting sympy\n",
      "  Downloading sympy-1.12-py3-none-any.whl (5.7 MB)\n",
      "     ---------------------------------------- 5.7/5.7 MB 4.3 MB/s eta 0:00:00\n",
      "Requirement already satisfied: pyyaml>=5.1 in c:\\users\\asus\\appdata\\local\\packages\\pythonsoftwarefoundation.python.3.9_qbz5n2kfra8p0\\localcache\\local-packages\\python39\\site-packages (from transformers[sentencepiece,tokenizers,torch]>=4.22.0->inseq==0.5.0.dev0) (6.0)\n",
      "Requirement already satisfied: requests in c:\\users\\asus\\appdata\\local\\packages\\pythonsoftwarefoundation.python.3.9_qbz5n2kfra8p0\\localcache\\local-packages\\python39\\site-packages (from transformers[sentencepiece,tokenizers,torch]>=4.22.0->inseq==0.5.0.dev0) (2.28.2)\n",
      "Requirement already satisfied: tokenizers!=0.11.3,<0.14,>=0.11.1 in c:\\users\\asus\\appdata\\local\\packages\\pythonsoftwarefoundation.python.3.9_qbz5n2kfra8p0\\localcache\\local-packages\\python39\\site-packages (from transformers[sentencepiece,tokenizers,torch]>=4.22.0->inseq==0.5.0.dev0) (0.12.1)\n",
      "Requirement already satisfied: regex!=2019.12.17 in c:\\users\\asus\\appdata\\local\\packages\\pythonsoftwarefoundation.python.3.9_qbz5n2kfra8p0\\localcache\\local-packages\\python39\\site-packages (from transformers[sentencepiece,tokenizers,torch]>=4.22.0->inseq==0.5.0.dev0) (2022.6.2)\n",
      "Requirement already satisfied: huggingface-hub<1.0,>=0.11.0 in c:\\users\\asus\\appdata\\local\\packages\\pythonsoftwarefoundation.python.3.9_qbz5n2kfra8p0\\localcache\\local-packages\\python39\\site-packages (from transformers[sentencepiece,tokenizers,torch]>=4.22.0->inseq==0.5.0.dev0) (0.13.2)\n",
      "Collecting protobuf<4.0.0,>=3.20.1\n",
      "  Downloading protobuf-3.20.2-cp39-cp39-win_amd64.whl (904 kB)\n",
      "     -------------------------------------- 904.2/904.2 kB 2.6 MB/s eta 0:00:00\n",
      "Requirement already satisfied: sentencepiece!=0.1.92,>=0.1.91 in c:\\users\\asus\\appdata\\local\\packages\\pythonsoftwarefoundation.python.3.9_qbz5n2kfra8p0\\localcache\\local-packages\\python39\\site-packages (from transformers[sentencepiece,tokenizers,torch]>=4.22.0->inseq==0.5.0.dev0) (0.1.96)\n",
      "Requirement already satisfied: six>=1.5 in c:\\users\\asus\\appdata\\local\\packages\\pythonsoftwarefoundation.python.3.9_qbz5n2kfra8p0\\localcache\\local-packages\\python39\\site-packages (from python-dateutil>=2.7->matplotlib<3.6.0,>=3.5.3->inseq==0.5.0.dev0) (1.16.0)\n",
      "Requirement already satisfied: MarkupSafe>=2.0 in c:\\users\\asus\\appdata\\local\\packages\\pythonsoftwarefoundation.python.3.9_qbz5n2kfra8p0\\localcache\\local-packages\\python39\\site-packages (from jinja2->torch>=1.13.1->inseq==0.5.0.dev0) (2.1.1)\n",
      "Requirement already satisfied: urllib3<1.27,>=1.21.1 in c:\\users\\asus\\appdata\\local\\packages\\pythonsoftwarefoundation.python.3.9_qbz5n2kfra8p0\\localcache\\local-packages\\python39\\site-packages (from requests->transformers[sentencepiece,tokenizers,torch]>=4.22.0->inseq==0.5.0.dev0) (1.26.15)\n",
      "Requirement already satisfied: certifi>=2017.4.17 in c:\\users\\asus\\appdata\\local\\packages\\pythonsoftwarefoundation.python.3.9_qbz5n2kfra8p0\\localcache\\local-packages\\python39\\site-packages (from requests->transformers[sentencepiece,tokenizers,torch]>=4.22.0->inseq==0.5.0.dev0) (2022.12.7)\n",
      "Requirement already satisfied: charset-normalizer<4,>=2 in c:\\users\\asus\\appdata\\local\\packages\\pythonsoftwarefoundation.python.3.9_qbz5n2kfra8p0\\localcache\\local-packages\\python39\\site-packages (from requests->transformers[sentencepiece,tokenizers,torch]>=4.22.0->inseq==0.5.0.dev0) (2.0.10)\n",
      "Requirement already satisfied: idna<4,>=2.5 in c:\\users\\asus\\appdata\\local\\packages\\pythonsoftwarefoundation.python.3.9_qbz5n2kfra8p0\\localcache\\local-packages\\python39\\site-packages (from requests->transformers[sentencepiece,tokenizers,torch]>=4.22.0->inseq==0.5.0.dev0) (3.3)\n",
      "Collecting mpmath>=0.19\n",
      "  Downloading mpmath-1.3.0-py3-none-any.whl (536 kB)\n",
      "     -------------------------------------- 536.2/536.2 kB 2.2 MB/s eta 0:00:00\n",
      "Building wheels for collected packages: inseq\n",
      "  Building wheel for inseq (pyproject.toml): started\n",
      "  Building wheel for inseq (pyproject.toml): finished with status 'done'\n",
      "  Created wheel for inseq: filename=inseq-0.5.0.dev0-py3-none-any.whl size=128751 sha256=4ad0f7b494d349221acbf795baf5cd3d9faa3c4b6373bfb8efb22b394078ad51\n",
      "  Stored in directory: C:\\Users\\ASUS\\AppData\\Local\\Temp\\pip-ephem-wheel-cache-20lusflt\\wheels\\e2\\a8\\b9\\6bac3e99f1c1ca2b613bd79bbd05779e15e9251119f71a4c8c\n",
      "Successfully built inseq\n",
      "Installing collected packages: mpmath, typeguard, sympy, rich, protobuf, pastel, numpy, torch, poethepoet, matplotlib, torchtyping, captum, inseq\n",
      "  Attempting uninstall: rich\n",
      "    Found existing installation: rich 12.5.1\n",
      "    Uninstalling rich-12.5.1:\n",
      "      Successfully uninstalled rich-12.5.1\n",
      "  Attempting uninstall: protobuf\n",
      "    Found existing installation: protobuf 3.19.4\n",
      "    Uninstalling protobuf-3.19.4:\n",
      "      Successfully uninstalled protobuf-3.19.4\n",
      "  Attempting uninstall: numpy\n",
      "    Found existing installation: numpy 1.20.3\n",
      "    Uninstalling numpy-1.20.3:\n",
      "      Successfully uninstalled numpy-1.20.3\n",
      "  Attempting uninstall: torch\n",
      "    Found existing installation: torch 1.12.1\n",
      "    Uninstalling torch-1.12.1:\n",
      "      Successfully uninstalled torch-1.12.1\n",
      "  Attempting uninstall: matplotlib\n",
      "    Found existing installation: matplotlib 3.5.1\n",
      "    Uninstalling matplotlib-3.5.1:\n",
      "      Successfully uninstalled matplotlib-3.5.1\n",
      "Successfully installed captum-0.6.0 inseq-0.5.0.dev0 matplotlib-3.5.3 mpmath-1.3.0 numpy-1.24.4 pastel-0.2.1 poethepoet-0.13.1 protobuf-3.20.2 rich-10.16.2 sympy-1.12 torch-2.0.1 torchtyping-0.1.4 typeguard-2.13.3\n"
     ]
    },
    {
     "name": "stderr",
     "output_type": "stream",
     "text": [
      "  Running command git clone --filter=blob:none --quiet https://github.com/inseq-team/inseq.git 'C:\\Users\\ASUS\\AppData\\Local\\Temp\\pip-req-build-dcrk0c1h'\n",
      "ERROR: pip's dependency resolver does not currently take into account all the packages that are installed. This behaviour is the source of the following dependency conflicts.\n",
      "twine 4.0.2 requires rich>=12.0.0, but you have rich 10.16.2 which is incompatible.\n",
      "torchvision 0.13.1 requires torch==1.12.1, but you have torch 2.0.1 which is incompatible.\n",
      "torchaudio 0.12.1 requires torch==1.12.1, but you have torch 2.0.1 which is incompatible.\n",
      "tensorflow 2.9.1 requires protobuf<3.20,>=3.9.2, but you have protobuf 3.20.2 which is incompatible.\n",
      "streamlit-gallery 0.1.0 requires streamlit<0.77.0,>=0.76.0, but you have streamlit 1.20.0 which is incompatible.\n",
      "streamlit-extras 0.2.6 requires protobuf!=3.20.2, but you have protobuf 3.20.2 which is incompatible.\n",
      "numba 0.54.1 requires numpy<1.21,>=1.17, but you have numpy 1.24.4 which is incompatible.\n",
      "ktrain 0.31.10 requires transformers==4.17.0, but you have transformers 4.27.0 which is incompatible.\n",
      "datasets 2.4.0 requires dill<0.3.6, but you have dill 0.3.6 which is incompatible.\n",
      "argilla 1.3.0 requires numpy<1.24.0, but you have numpy 1.24.4 which is incompatible.\n",
      "\n",
      "[notice] A new release of pip available: 22.2.1 -> 23.2.1\n",
      "[notice] To update, run: C:\\Users\\ASUS\\AppData\\Local\\Microsoft\\WindowsApps\\PythonSoftwareFoundation.Python.3.9_qbz5n2kfra8p0\\python.exe -m pip install --upgrade pip\n"
     ]
    }
   ],
   "source": [
    "%%capture\n",
    "# Run in Colab to install local packages\n",
    "%pip install bitsandbytes accelerate\n",
    "%pip install git+https://github.com/huggingface/transformers.git\n",
    "%pip install git+https://github.com/inseq-team/inseq.git"
   ]
  },
  {
   "cell_type": "code",
   "execution_count": 2,
   "metadata": {},
   "outputs": [
    {
     "name": "stderr",
     "output_type": "stream",
     "text": [
      "C:\\Users\\ASUS\\AppData\\Local\\Packages\\PythonSoftwareFoundation.Python.3.9_qbz5n2kfra8p0\\LocalCache\\local-packages\\Python39\\site-packages\\bitsandbytes\\cextension.py:34: UserWarning: The installed version of bitsandbytes was compiled without GPU support. 8-bit optimizers, 8-bit multiplication, and GPU quantization are unavailable.\n",
      "  warn(\"The installed version of bitsandbytes was compiled without GPU support. \"\n"
     ]
    },
    {
     "name": "stdout",
     "output_type": "stream",
     "text": [
      "'NoneType' object has no attribute 'cadam32bit_grad_fp32'\n"
     ]
    }
   ],
   "source": [
    "import inseq"
   ]
  },
  {
   "cell_type": "code",
   "execution_count": 3,
   "metadata": {},
   "outputs": [
    {
     "data": {
      "application/vnd.jupyter.widget-view+json": {
       "model_id": "387a057fb3ad497bb20b780755b2fe65",
       "version_major": 2,
       "version_minor": 0
      },
      "text/plain": [
       "Downloading (…)lve/main/config.json:   0%|          | 0.00/567 [00:00<?, ?B/s]"
      ]
     },
     "metadata": {},
     "output_type": "display_data"
    },
    {
     "name": "stderr",
     "output_type": "stream",
     "text": [
      "C:\\Users\\ASUS\\AppData\\Local\\Packages\\PythonSoftwareFoundation.Python.3.9_qbz5n2kfra8p0\\LocalCache\\local-packages\\Python39\\site-packages\\huggingface_hub\\file_download.py:133: UserWarning: `huggingface_hub` cache-system uses symlinks by default to efficiently store duplicated files but your machine does not support them in C:\\Users\\ASUS\\.cache\\huggingface\\hub. Caching files will still work but in a degraded version that might require more space on your disk. This warning can be disabled by setting the `HF_HUB_DISABLE_SYMLINKS_WARNING` environment variable. For more details, see https://huggingface.co/docs/huggingface_hub/how-to-cache#limitations.\n",
      "To support symlinks on Windows, you either need to activate Developer Mode or to run Python as an administrator. In order to see activate developer mode, see this article: https://docs.microsoft.com/en-us/windows/apps/get-started/enable-your-device-for-development\n",
      "  warnings.warn(message)\n"
     ]
    },
    {
     "data": {
      "application/vnd.jupyter.widget-view+json": {
       "model_id": "1aafb21e3f6e4b01ba78f628718ea063",
       "version_major": 2,
       "version_minor": 0
      },
      "text/plain": [
       "Downloading pytorch_model.bin:   0%|          | 0.00/166M [00:00<?, ?B/s]"
      ]
     },
     "metadata": {},
     "output_type": "display_data"
    },
    {
     "data": {
      "application/vnd.jupyter.widget-view+json": {
       "model_id": "e1150489f91644629c50a9b91b38546f",
       "version_major": 2,
       "version_minor": 0
      },
      "text/plain": [
       "Downloading (…)okenizer_config.json:   0%|          | 0.00/396 [00:00<?, ?B/s]"
      ]
     },
     "metadata": {},
     "output_type": "display_data"
    },
    {
     "data": {
      "application/vnd.jupyter.widget-view+json": {
       "model_id": "0a08301318484e36b7180db893a67efd",
       "version_major": 2,
       "version_minor": 0
      },
      "text/plain": [
       "Downloading (…)/main/tokenizer.json:   0%|          | 0.00/2.11M [00:00<?, ?B/s]"
      ]
     },
     "metadata": {},
     "output_type": "display_data"
    },
    {
     "data": {
      "application/vnd.jupyter.widget-view+json": {
       "model_id": "db0cddd42ca1461ca8cfab4a99f74011",
       "version_major": 2,
       "version_minor": 0
      },
      "text/plain": [
       "Downloading (…)cial_tokens_map.json:   0%|          | 0.00/99.0 [00:00<?, ?B/s]"
      ]
     },
     "metadata": {},
     "output_type": "display_data"
    },
    {
     "name": "stderr",
     "output_type": "stream",
     "text": [
      "attribute_target parameter is set to True, but will be ignored (not an encoder-decoder).\n",
      "The attention mask and the pad token id were not set. As a consequence, you may observe unexpected behavior. Please pass your input's `attention_mask` to obtain reliable results.\n",
      "Setting `pad_token_id` to `eos_token_id`:0 for open-end generation.\n",
      "C:\\Users\\ASUS\\AppData\\Local\\Packages\\PythonSoftwareFoundation.Python.3.9_qbz5n2kfra8p0\\LocalCache\\local-packages\\Python39\\site-packages\\transformers\\generation\\utils.py:1288: UserWarning: Using `max_length`'s default (20) to control the generation length. This behaviour is deprecated and will be removed from the config in v5 of Transformers -- we recommend using `max_new_tokens` to control the maximum length of the generation.\n",
      "  warnings.warn(\n",
      "Attributing with attention...: 100%|██████████| 20/20 [00:00<00:00, 27.41it/s]\n"
     ]
    },
    {
     "data": {
      "text/plain": [
       "torch.Size([20, 10, 6, 8])"
      ]
     },
     "execution_count": 3,
     "metadata": {},
     "output_type": "execute_result"
    }
   ],
   "source": [
    "# Load the model EleutherAI/pythia-70m-deduped (6-layer decoder only transformer) from the\n",
    "# Huggingface Hub and hook it with the Input X Gradient feature attribution method\n",
    "model = inseq.load_model(\"EleutherAI/pythia-70m-deduped\", \"input_x_gradient\")\n",
    "\n",
    "out = model.attribute(\n",
    "    input_texts=\"Hello everyone, hope you're enjoying the tutorial!\",\n",
    "    attribute_target=True,\n",
    "    method=\"attention\"\n",
    ")\n",
    "\n",
    "# out[0] is a shortcut for out.target_attributions[0]\n",
    "out.sequence_attributions[0].target_attributions.shape"
   ]
  },
  {
   "cell_type": "code",
   "execution_count": 4,
   "metadata": {},
   "outputs": [
    {
     "data": {
      "text/html": [
       "<br/><b>0th instance:</b><br/>\n",
       "<html>\n",
       "<div id=\"hqbuqipkhdnopkbjkesi_viz_container\">\n",
       "    <div id=\"hqbuqipkhdnopkbjkesi_content\" style=\"padding:15px;border-style:solid;margin:5px;\">\n",
       "        <div id = \"hqbuqipkhdnopkbjkesi_saliency_plot_container\" class=\"hqbuqipkhdnopkbjkesi_viz_container\" style=\"display:block\">\n",
       "            \n",
       "<div id=\"syovuszyqtdrlkkpgrek_saliency_plot\" class=\"syovuszyqtdrlkkpgrek_viz_content\">\n",
       "    <div style=\"margin:5px;font-family:sans-serif;font-weight:bold;\">\n",
       "        <span style=\"font-size: 20px;\">Target Saliency Heatmap</span>\n",
       "        <br>\n",
       "        x: Generated tokens, y: Attributed tokens\n",
       "    </div>\n",
       "    \n",
       "<table border=\"1\" cellpadding=\"5\" cellspacing=\"5\"\n",
       "    style=\"overflow-x:scroll;display:block;\">\n",
       "    <tr><th></th>\n",
       "<th>Ċ</th><th>Ċ</th><th>I</th><th>'m</th><th>Ġso</th><th>Ġhappy</th><th>Ġto</th><th>Ġshare</th><th>Ġthis</th><th>Ġtutorial</th></tr><tr><th>Hello</th><th style=\"background:rgba(255.0, 13.0, 87.0, 0.6846900376312143)\">0.323</th><th style=\"background:rgba(255.0, 13.0, 87.0, 0.23537334125569415)\">0.112</th><th style=\"background:rgba(255.0, 13.0, 87.0, 0.14078035254505847)\">0.069</th><th style=\"background:rgba(255.0, 13.0, 87.0, 0.08560110913052081)\">0.042</th><th style=\"background:rgba(255.0, 13.0, 87.0, 0.06983561101208159)\">0.034</th><th style=\"background:rgba(255.0, 13.0, 87.0, 0.05407011289364243)\">0.026</th><th style=\"background:rgba(255.0, 13.0, 87.0, 0.10136660724896006)\">0.051</th><th style=\"background:rgba(255.0, 13.0, 87.0, 0.04618736383442265)\">0.024</th><th style=\"background:rgba(255.0, 13.0, 87.0, 0.06195286195286207)\">0.031</th><th style=\"background:rgba(255.0, 13.0, 87.0, 0.05407011289364243)\">0.028</th></tr><tr><th>Ġeveryone</th><th style=\"background:rgba(255.0, 13.0, 87.0, 0.219607843137255)\">0.105</th><th style=\"background:rgba(255.0, 13.0, 87.0, 0.1171321053673995)\">0.058</th><th style=\"background:rgba(255.0, 13.0, 87.0, 0.06983561101208159)\">0.033</th><th style=\"background:rgba(255.0, 13.0, 87.0, 0.04618736383442265)\">0.025</th><th style=\"background:rgba(255.0, 13.0, 87.0, 0.03830461477520289)\">0.019</th><th style=\"background:rgba(255.0, 13.0, 87.0, 0.030421865715983164)\">0.015</th><th style=\"background:rgba(255.0, 13.0, 87.0, 0.030421865715983164)\">0.018</th><th style=\"background:rgba(255.0, 13.0, 87.0, 0.02253911665676371)\">0.013</th><th style=\"background:rgba(255.0, 13.0, 87.0, 0.030421865715983164)\">0.017</th><th style=\"background:rgba(255.0, 13.0, 87.0, 0.03830461477520289)\">0.019</th></tr><tr><th>,</th><th style=\"background:rgba(255.0, 13.0, 87.0, 0.15654585066349747)\">0.076</th><th style=\"background:rgba(255.0, 13.0, 87.0, 0.06195286195286207)\">0.033</th><th style=\"background:rgba(255.0, 13.0, 87.0, 0.05407011289364243)\">0.027</th><th style=\"background:rgba(255.0, 13.0, 87.0, 0.02253911665676371)\">0.014</th><th style=\"background:rgba(255.0, 13.0, 87.0, 0.014656367597544035)\">0.01</th><th style=\"background:rgba(255.0, 13.0, 87.0, 0.030421865715983164)\">0.018</th><th style=\"background:rgba(255.0, 13.0, 87.0, 0.02253911665676371)\">0.011</th><th style=\"background:rgba(255.0, 13.0, 87.0, 0.02253911665676371)\">0.012</th><th style=\"background:rgba(255.0, 13.0, 87.0, 0.02253911665676371)\">0.014</th><th style=\"background:rgba(255.0, 13.0, 87.0, 0.030421865715983164)\">0.016</th></tr><tr><th>Ġhope</th><th style=\"background:rgba(255.0, 13.0, 87.0, 0.08560110913052081)\">0.041</th><th style=\"background:rgba(255.0, 13.0, 87.0, 0.06195286195286207)\">0.03</th><th style=\"background:rgba(255.0, 13.0, 87.0, 0.02253911665676371)\">0.015</th><th style=\"background:rgba(255.0, 13.0, 87.0, 0.02253911665676371)\">0.012</th><th style=\"background:rgba(255.0, 13.0, 87.0, 0.00677361853832443)\">0.007</th><th style=\"background:rgba(255.0, 13.0, 87.0, 0.014656367597544035)\">0.008</th><th style=\"background:rgba(255.0, 13.0, 87.0, 0.02253911665676371)\">0.012</th><th style=\"background:rgba(255.0, 13.0, 87.0, 0.00677361853832443)\">0.004</th><th style=\"background:rgba(255.0, 13.0, 87.0, 0.00677361853832443)\">0.006</th><th style=\"background:rgba(255.0, 13.0, 87.0, 0.00677361853832443)\">0.006</th></tr><tr><th>Ġyou</th><th style=\"background:rgba(255.0, 13.0, 87.0, 0.06195286195286207)\">0.033</th><th style=\"background:rgba(255.0, 13.0, 87.0, 0.030421865715983164)\">0.015</th><th style=\"background:rgba(255.0, 13.0, 87.0, 0.030421865715983164)\">0.016</th><th style=\"background:rgba(255.0, 13.0, 87.0, 0.030421865715983164)\">0.016</th><th style=\"background:rgba(255.0, 13.0, 87.0, 0.014656367597544035)\">0.008</th><th style=\"background:rgba(255.0, 13.0, 87.0, 0.00677361853832443)\">0.005</th><th style=\"background:rgba(255.0, 13.0, 87.0, 0.00677361853832443)\">0.006</th><th style=\"background:rgba(255.0, 13.0, 87.0, 0.00677361853832443)\">0.005</th><th style=\"background:rgba(255.0, 13.0, 87.0, 0.00677361853832443)\">0.006</th><th style=\"background:rgba(255.0, 13.0, 87.0, 0.00677361853832443)\">0.006</th></tr><tr><th>'re</th><th style=\"background:rgba(255.0, 13.0, 87.0, 0.06983561101208159)\">0.035</th><th style=\"background:rgba(255.0, 13.0, 87.0, 0.03830461477520289)\">0.02</th><th style=\"background:rgba(255.0, 13.0, 87.0, 0.03830461477520289)\">0.021</th><th style=\"background:rgba(255.0, 13.0, 87.0, 0.03830461477520289)\">0.022</th><th style=\"background:rgba(255.0, 13.0, 87.0, 0.03830461477520289)\">0.021</th><th style=\"background:rgba(255.0, 13.0, 87.0, 0.02253911665676371)\">0.015</th><th style=\"background:rgba(255.0, 13.0, 87.0, 0.014656367597544035)\">0.009</th><th style=\"background:rgba(255.0, 13.0, 87.0, 0.00677361853832443)\">0.007</th><th style=\"background:rgba(255.0, 13.0, 87.0, 0.00677361853832443)\">0.006</th><th style=\"background:rgba(255.0, 13.0, 87.0, 0.014656367597544035)\">0.008</th></tr><tr><th>Ġenjoying</th><th style=\"background:rgba(255.0, 13.0, 87.0, 0.06983561101208159)\">0.035</th><th style=\"background:rgba(255.0, 13.0, 87.0, 0.02253911665676371)\">0.013</th><th style=\"background:rgba(255.0, 13.0, 87.0, 0.02253911665676371)\">0.013</th><th style=\"background:rgba(255.0, 13.0, 87.0, 0.02253911665676371)\">0.012</th><th style=\"background:rgba(255.0, 13.0, 87.0, 0.030421865715983164)\">0.018</th><th style=\"background:rgba(255.0, 13.0, 87.0, 0.030421865715983164)\">0.017</th><th style=\"background:rgba(255.0, 13.0, 87.0, 0.05407011289364243)\">0.027</th><th style=\"background:rgba(255.0, 13.0, 87.0, 0.02253911665676371)\">0.013</th><th style=\"background:rgba(255.0, 13.0, 87.0, 0.014656367597544035)\">0.009</th><th style=\"background:rgba(255.0, 13.0, 87.0, 0.00677361853832443)\">0.006</th></tr><tr><th>Ġthe</th><th style=\"background:rgba(255.0, 13.0, 87.0, 0.13289760348583876)\">0.066</th><th style=\"background:rgba(255.0, 13.0, 87.0, 0.06983561101208159)\">0.036</th><th style=\"background:rgba(255.0, 13.0, 87.0, 0.05407011289364243)\">0.029</th><th style=\"background:rgba(255.0, 13.0, 87.0, 0.030421865715983164)\">0.018</th><th style=\"background:rgba(255.0, 13.0, 87.0, 0.030421865715983164)\">0.015</th><th style=\"background:rgba(255.0, 13.0, 87.0, 0.030421865715983164)\">0.015</th><th style=\"background:rgba(255.0, 13.0, 87.0, 0.030421865715983164)\">0.017</th><th style=\"background:rgba(255.0, 13.0, 87.0, 0.030421865715983164)\">0.018</th><th style=\"background:rgba(255.0, 13.0, 87.0, 0.03830461477520289)\">0.02</th><th style=\"background:rgba(255.0, 13.0, 87.0, 0.030421865715983164)\">0.017</th></tr><tr><th>Ġtutorial</th><th style=\"background:rgba(255.0, 13.0, 87.0, 0.1959595959595959)\">0.094</th><th style=\"background:rgba(255.0, 13.0, 87.0, 0.08560110913052081)\">0.043</th><th style=\"background:rgba(255.0, 13.0, 87.0, 0.1880768469003763)\">0.09</th><th style=\"background:rgba(255.0, 13.0, 87.0, 0.18019409784115661)\">0.086</th><th style=\"background:rgba(255.0, 13.0, 87.0, 0.14078035254505847)\">0.068</th><th style=\"background:rgba(255.0, 13.0, 87.0, 0.06983561101208159)\">0.036</th><th style=\"background:rgba(255.0, 13.0, 87.0, 0.030421865715983164)\">0.015</th><th style=\"background:rgba(255.0, 13.0, 87.0, 0.15654585066349747)\">0.077</th><th style=\"background:rgba(255.0, 13.0, 87.0, 0.14078035254505847)\">0.069</th><th style=\"background:rgba(255.0, 13.0, 87.0, 0.2747870865517925)\">0.131</th></tr><tr><th>!</th><th style=\"background:rgba(255.0, 13.0, 87.0, 0.4009110714993067)\">0.19</th><th style=\"background:rgba(255.0, 13.0, 87.0, 0.36149732620320857)\">0.169</th><th style=\"background:rgba(255.0, 13.0, 87.0, 0.219607843137255)\">0.105</th><th style=\"background:rgba(255.0, 13.0, 87.0, 0.07771836007130124)\">0.038</th><th style=\"background:rgba(255.0, 13.0, 87.0, 0.05407011289364243)\">0.028</th><th style=\"background:rgba(255.0, 13.0, 87.0, 0.04618736383442265)\">0.024</th><th style=\"background:rgba(255.0, 13.0, 87.0, 0.06983561101208159)\">0.034</th><th style=\"background:rgba(255.0, 13.0, 87.0, 0.03830461477520289)\">0.02</th><th style=\"background:rgba(255.0, 13.0, 87.0, 0.06983561101208159)\">0.034</th><th style=\"background:rgba(255.0, 13.0, 87.0, 0.06195286195286207)\">0.032</th></tr><tr><th>Ċ</th><th style=\"background:rgba(0.0, 0.0, 0.0, 0.0)\"></th><th style=\"background:rgba(255.0, 13.0, 87.0, 1.0)\">0.471</th><th style=\"background:rgba(255.0, 13.0, 87.0, 0.8423450188156072)\">0.397</th><th style=\"background:rgba(255.0, 13.0, 87.0, 0.865993265993266)\">0.407</th><th style=\"background:rgba(255.0, 13.0, 87.0, 0.7635175282234107)\">0.357</th><th style=\"background:rgba(255.0, 13.0, 87.0, 0.755634779164191)\">0.354</th><th style=\"background:rgba(255.0, 13.0, 87.0, 0.5428005545652606)\">0.255</th><th style=\"background:rgba(255.0, 13.0, 87.0, 0.5743315508021392)\">0.269</th><th style=\"background:rgba(255.0, 13.0, 87.0, 0.48762131115072294)\">0.229</th><th style=\"background:rgba(255.0, 13.0, 87.0, 0.4087938205585263)\">0.193</th></tr><tr><th>Ċ</th><th style=\"background:rgba(0.0, 0.0, 0.0, 0.0)\"></th><th style=\"background:rgba(0.0, 0.0, 0.0, 0.0)\"></th><th style=\"background:rgba(255.0, 13.0, 87.0, 0.39302832244008706)\">0.184</th><th style=\"background:rgba(255.0, 13.0, 87.0, 0.3457318280847692)\">0.162</th><th style=\"background:rgba(255.0, 13.0, 87.0, 0.2117250940780353)\">0.101</th><th style=\"background:rgba(255.0, 13.0, 87.0, 0.14866310160427795)\">0.07</th><th style=\"background:rgba(255.0, 13.0, 87.0, 0.17231134878193693)\">0.082</th><th style=\"background:rgba(255.0, 13.0, 87.0, 0.07771836007130124)\">0.038</th><th style=\"background:rgba(255.0, 13.0, 87.0, 0.14078035254505847)\">0.067</th><th style=\"background:rgba(255.0, 13.0, 87.0, 0.13289760348583876)\">0.063</th></tr><tr><th>I</th><th style=\"background:rgba(0.0, 0.0, 0.0, 0.0)\"></th><th style=\"background:rgba(0.0, 0.0, 0.0, 0.0)\"></th><th style=\"background:rgba(0.0, 0.0, 0.0, 0.0)\"></th><th style=\"background:rgba(255.0, 13.0, 87.0, 0.306318082788671)\">0.145</th><th style=\"background:rgba(255.0, 13.0, 87.0, 0.39302832244008706)\">0.185</th><th style=\"background:rgba(255.0, 13.0, 87.0, 0.2117250940780353)\">0.103</th><th style=\"background:rgba(255.0, 13.0, 87.0, 0.13289760348583876)\">0.065</th><th style=\"background:rgba(255.0, 13.0, 87.0, 0.13289760348583876)\">0.064</th><th style=\"background:rgba(255.0, 13.0, 87.0, 0.13289760348583876)\">0.063</th><th style=\"background:rgba(255.0, 13.0, 87.0, 0.06983561101208159)\">0.033</th></tr><tr><th>'m</th><th style=\"background:rgba(0.0, 0.0, 0.0, 0.0)\"></th><th style=\"background:rgba(0.0, 0.0, 0.0, 0.0)\"></th><th style=\"background:rgba(0.0, 0.0, 0.0, 0.0)\"></th><th style=\"background:rgba(0.0, 0.0, 0.0, 0.0)\"></th><th style=\"background:rgba(255.0, 13.0, 87.0, 0.26690433749257286)\">0.126</th><th style=\"background:rgba(255.0, 13.0, 87.0, 0.46397306397306415)\">0.217</th><th style=\"background:rgba(255.0, 13.0, 87.0, 0.26690433749257286)\">0.127</th><th style=\"background:rgba(255.0, 13.0, 87.0, 0.09348385818974037)\">0.046</th><th style=\"background:rgba(255.0, 13.0, 87.0, 0.10136660724896006)\">0.048</th><th style=\"background:rgba(255.0, 13.0, 87.0, 0.03830461477520289)\">0.02</th></tr><tr><th>Ġso</th><th style=\"background:rgba(0.0, 0.0, 0.0, 0.0)\"></th><th style=\"background:rgba(0.0, 0.0, 0.0, 0.0)\"></th><th style=\"background:rgba(0.0, 0.0, 0.0, 0.0)\"></th><th style=\"background:rgba(0.0, 0.0, 0.0, 0.0)\"></th><th style=\"background:rgba(0.0, 0.0, 0.0, 0.0)\"></th><th style=\"background:rgba(255.0, 13.0, 87.0, 0.16442859972271742)\">0.078</th><th style=\"background:rgba(255.0, 13.0, 87.0, 0.24325609031491383)\">0.116</th><th style=\"background:rgba(255.0, 13.0, 87.0, 0.1171321053673995)\">0.058</th><th style=\"background:rgba(255.0, 13.0, 87.0, 0.06195286195286207)\">0.03</th><th style=\"background:rgba(255.0, 13.0, 87.0, 0.03830461477520289)\">0.021</th></tr><tr><th>Ġhappy</th><th style=\"background:rgba(0.0, 0.0, 0.0, 0.0)\"></th><th style=\"background:rgba(0.0, 0.0, 0.0, 0.0)\"></th><th style=\"background:rgba(0.0, 0.0, 0.0, 0.0)\"></th><th style=\"background:rgba(0.0, 0.0, 0.0, 0.0)\"></th><th style=\"background:rgba(0.0, 0.0, 0.0, 0.0)\"></th><th style=\"background:rgba(0.0, 0.0, 0.0, 0.0)\"></th><th style=\"background:rgba(255.0, 13.0, 87.0, 0.32208358090711037)\">0.154</th><th style=\"background:rgba(255.0, 13.0, 87.0, 0.3457318280847692)\">0.164</th><th style=\"background:rgba(255.0, 13.0, 87.0, 0.10924935630817992)\">0.054</th><th style=\"background:rgba(255.0, 13.0, 87.0, 0.10136660724896006)\">0.05</th></tr><tr><th>Ġto</th><th style=\"background:rgba(0.0, 0.0, 0.0, 0.0)\"></th><th style=\"background:rgba(0.0, 0.0, 0.0, 0.0)\"></th><th style=\"background:rgba(0.0, 0.0, 0.0, 0.0)\"></th><th style=\"background:rgba(0.0, 0.0, 0.0, 0.0)\"></th><th style=\"background:rgba(0.0, 0.0, 0.0, 0.0)\"></th><th style=\"background:rgba(0.0, 0.0, 0.0, 0.0)\"></th><th style=\"background:rgba(0.0, 0.0, 0.0, 0.0)\"></th><th style=\"background:rgba(255.0, 13.0, 87.0, 0.3536145771439889)\">0.169</th><th style=\"background:rgba(255.0, 13.0, 87.0, 0.33784907902554967)\">0.159</th><th style=\"background:rgba(255.0, 13.0, 87.0, 0.14078035254505847)\">0.067</th></tr><tr><th>Ġshare</th><th style=\"background:rgba(0.0, 0.0, 0.0, 0.0)\"></th><th style=\"background:rgba(0.0, 0.0, 0.0, 0.0)\"></th><th style=\"background:rgba(0.0, 0.0, 0.0, 0.0)\"></th><th style=\"background:rgba(0.0, 0.0, 0.0, 0.0)\"></th><th style=\"background:rgba(0.0, 0.0, 0.0, 0.0)\"></th><th style=\"background:rgba(0.0, 0.0, 0.0, 0.0)\"></th><th style=\"background:rgba(0.0, 0.0, 0.0, 0.0)\"></th><th style=\"background:rgba(0.0, 0.0, 0.0, 0.0)\"></th><th style=\"background:rgba(255.0, 13.0, 87.0, 0.29843533372945136)\">0.14</th><th style=\"background:rgba(255.0, 13.0, 87.0, 0.4245593186769657)\">0.2</th></tr><tr><th>Ġthis</th><th style=\"background:rgba(0.0, 0.0, 0.0, 0.0)\"></th><th style=\"background:rgba(0.0, 0.0, 0.0, 0.0)\"></th><th style=\"background:rgba(0.0, 0.0, 0.0, 0.0)\"></th><th style=\"background:rgba(0.0, 0.0, 0.0, 0.0)\"></th><th style=\"background:rgba(0.0, 0.0, 0.0, 0.0)\"></th><th style=\"background:rgba(0.0, 0.0, 0.0, 0.0)\"></th><th style=\"background:rgba(0.0, 0.0, 0.0, 0.0)\"></th><th style=\"background:rgba(0.0, 0.0, 0.0, 0.0)\"></th><th style=\"background:rgba(0.0, 0.0, 0.0, 0.0)\"></th><th style=\"background:rgba(255.0, 13.0, 87.0, 0.17231134878193693)\">0.081</th></tr><tr><th>Ġtutorial</th><th style=\"background:rgba(0.0, 0.0, 0.0, 0.0)\"></th><th style=\"background:rgba(0.0, 0.0, 0.0, 0.0)\"></th><th style=\"background:rgba(0.0, 0.0, 0.0, 0.0)\"></th><th style=\"background:rgba(0.0, 0.0, 0.0, 0.0)\"></th><th style=\"background:rgba(0.0, 0.0, 0.0, 0.0)\"></th><th style=\"background:rgba(0.0, 0.0, 0.0, 0.0)\"></th><th style=\"background:rgba(0.0, 0.0, 0.0, 0.0)\"></th><th style=\"background:rgba(0.0, 0.0, 0.0, 0.0)\"></th><th style=\"background:rgba(0.0, 0.0, 0.0, 0.0)\"></th><th style=\"background:rgba(0.0, 0.0, 0.0, 0.0)\"></th></tr></table>\n",
       "</div>\n",
       "\n",
       "        </div>\n",
       "    </div>\n",
       "</div>\n",
       "</html>\n"
      ],
      "text/plain": [
       "<IPython.core.display.HTML object>"
      ]
     },
     "metadata": {},
     "output_type": "display_data"
    }
   ],
   "source": [
    "out.sequence_attributions[0]._aggregator\n",
    "out.show()"
   ]
  },
  {
   "cell_type": "code",
   "execution_count": null,
   "metadata": {},
   "outputs": [],
   "source": []
  }
 ],
 "metadata": {
  "kernelspec": {
   "display_name": "Python 3",
   "language": "python",
   "name": "python3"
  },
  "language_info": {
   "codemirror_mode": {
    "name": "ipython",
    "version": 3
   },
   "file_extension": ".py",
   "mimetype": "text/x-python",
   "name": "python",
   "nbconvert_exporter": "python",
   "pygments_lexer": "ipython3",
   "version": "3.9.13"
  },
  "orig_nbformat": 4
 },
 "nbformat": 4,
 "nbformat_minor": 2
}
